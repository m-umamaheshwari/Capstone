{
 "cells": [
  {
   "cell_type": "raw",
   "metadata": {},
   "source": [
    "Modelling objective:\n",
    "\n",
    "Dealing this as a prediction problem(classification) and predicting what spending category(High/Medium/Low), a person with a set of characteristics will belong to."
   ]
  },
  {
   "cell_type": "code",
   "execution_count": 1,
   "metadata": {},
   "outputs": [],
   "source": [
    "import numpy as np\n",
    "import pandas as pd\n",
    "import matplotlib.pyplot as plt\n",
    "import seaborn as sns"
   ]
  },
  {
   "cell_type": "code",
   "execution_count": 97,
   "metadata": {},
   "outputs": [],
   "source": [
    "#we will be predicting only present responses spending kind\n",
    "data_present=pd.read_excel('modelling_present_KNN.xlsx')"
   ]
  },
  {
   "cell_type": "code",
   "execution_count": 52,
   "metadata": {},
   "outputs": [
    {
     "data": {
      "text/html": [
       "<div>\n",
       "<style scoped>\n",
       "    .dataframe tbody tr th:only-of-type {\n",
       "        vertical-align: middle;\n",
       "    }\n",
       "\n",
       "    .dataframe tbody tr th {\n",
       "        vertical-align: top;\n",
       "    }\n",
       "\n",
       "    .dataframe thead th {\n",
       "        text-align: right;\n",
       "    }\n",
       "</style>\n",
       "<table border=\"1\" class=\"dataframe\">\n",
       "  <thead>\n",
       "    <tr style=\"text-align: right;\">\n",
       "      <th></th>\n",
       "      <th>Unnamed: 0</th>\n",
       "      <th>Age</th>\n",
       "      <th>Income</th>\n",
       "      <th>Emp_stat_Present</th>\n",
       "      <th>Gender</th>\n",
       "      <th>Marital_status</th>\n",
       "      <th>Loc</th>\n",
       "      <th>Notice_things_Present</th>\n",
       "      <th>All_angles_Present</th>\n",
       "      <th>Sincere_prod_Present</th>\n",
       "      <th>...</th>\n",
       "      <th>Digital_content_Present</th>\n",
       "      <th>Active_Investor_Present</th>\n",
       "      <th>Edu_instit_fee_Present</th>\n",
       "      <th>Change_in_data_consumption</th>\n",
       "      <th>Spend_on_gadgets_Present</th>\n",
       "      <th>Spend_on_Luxury_Present</th>\n",
       "      <th>Track_Household_exp_Present</th>\n",
       "      <th>Domestic_help_Present</th>\n",
       "      <th>Spending_kind_Present</th>\n",
       "      <th>ID</th>\n",
       "    </tr>\n",
       "  </thead>\n",
       "  <tbody>\n",
       "    <tr>\n",
       "      <th>0</th>\n",
       "      <td>0</td>\n",
       "      <td>5</td>\n",
       "      <td>2</td>\n",
       "      <td>0</td>\n",
       "      <td>0</td>\n",
       "      <td>1</td>\n",
       "      <td>1</td>\n",
       "      <td>5</td>\n",
       "      <td>5</td>\n",
       "      <td>5</td>\n",
       "      <td>...</td>\n",
       "      <td>3</td>\n",
       "      <td>2</td>\n",
       "      <td>3</td>\n",
       "      <td>1</td>\n",
       "      <td>4</td>\n",
       "      <td>1</td>\n",
       "      <td>2</td>\n",
       "      <td>1</td>\n",
       "      <td>1</td>\n",
       "      <td>1</td>\n",
       "    </tr>\n",
       "    <tr>\n",
       "      <th>1</th>\n",
       "      <td>1</td>\n",
       "      <td>0</td>\n",
       "      <td>3</td>\n",
       "      <td>3</td>\n",
       "      <td>0</td>\n",
       "      <td>0</td>\n",
       "      <td>1</td>\n",
       "      <td>1</td>\n",
       "      <td>5</td>\n",
       "      <td>5</td>\n",
       "      <td>...</td>\n",
       "      <td>1</td>\n",
       "      <td>5</td>\n",
       "      <td>4</td>\n",
       "      <td>2</td>\n",
       "      <td>3</td>\n",
       "      <td>2</td>\n",
       "      <td>0</td>\n",
       "      <td>2</td>\n",
       "      <td>1</td>\n",
       "      <td>3</td>\n",
       "    </tr>\n",
       "    <tr>\n",
       "      <th>2</th>\n",
       "      <td>2</td>\n",
       "      <td>4</td>\n",
       "      <td>1</td>\n",
       "      <td>4</td>\n",
       "      <td>0</td>\n",
       "      <td>1</td>\n",
       "      <td>1</td>\n",
       "      <td>5</td>\n",
       "      <td>5</td>\n",
       "      <td>4</td>\n",
       "      <td>...</td>\n",
       "      <td>3</td>\n",
       "      <td>3</td>\n",
       "      <td>3</td>\n",
       "      <td>1</td>\n",
       "      <td>3</td>\n",
       "      <td>2</td>\n",
       "      <td>2</td>\n",
       "      <td>0</td>\n",
       "      <td>0</td>\n",
       "      <td>4</td>\n",
       "    </tr>\n",
       "    <tr>\n",
       "      <th>3</th>\n",
       "      <td>3</td>\n",
       "      <td>0</td>\n",
       "      <td>0</td>\n",
       "      <td>2</td>\n",
       "      <td>1</td>\n",
       "      <td>0</td>\n",
       "      <td>1</td>\n",
       "      <td>3</td>\n",
       "      <td>4</td>\n",
       "      <td>4</td>\n",
       "      <td>...</td>\n",
       "      <td>3</td>\n",
       "      <td>3</td>\n",
       "      <td>4</td>\n",
       "      <td>2</td>\n",
       "      <td>4</td>\n",
       "      <td>3</td>\n",
       "      <td>1</td>\n",
       "      <td>0</td>\n",
       "      <td>1</td>\n",
       "      <td>5</td>\n",
       "    </tr>\n",
       "    <tr>\n",
       "      <th>4</th>\n",
       "      <td>4</td>\n",
       "      <td>1</td>\n",
       "      <td>0</td>\n",
       "      <td>1</td>\n",
       "      <td>1</td>\n",
       "      <td>0</td>\n",
       "      <td>1</td>\n",
       "      <td>4</td>\n",
       "      <td>5</td>\n",
       "      <td>5</td>\n",
       "      <td>...</td>\n",
       "      <td>2</td>\n",
       "      <td>3</td>\n",
       "      <td>4</td>\n",
       "      <td>2</td>\n",
       "      <td>3</td>\n",
       "      <td>2</td>\n",
       "      <td>2</td>\n",
       "      <td>0</td>\n",
       "      <td>0</td>\n",
       "      <td>6</td>\n",
       "    </tr>\n",
       "  </tbody>\n",
       "</table>\n",
       "<p>5 rows × 46 columns</p>\n",
       "</div>"
      ],
      "text/plain": [
       "   Unnamed: 0  Age  Income  Emp_stat_Present  Gender  Marital_status  Loc  \\\n",
       "0           0    5       2                 0       0               1    1   \n",
       "1           1    0       3                 3       0               0    1   \n",
       "2           2    4       1                 4       0               1    1   \n",
       "3           3    0       0                 2       1               0    1   \n",
       "4           4    1       0                 1       1               0    1   \n",
       "\n",
       "   Notice_things_Present  All_angles_Present  Sincere_prod_Present  ...  \\\n",
       "0                      5                   5                     5  ...   \n",
       "1                      1                   5                     5  ...   \n",
       "2                      5                   5                     4  ...   \n",
       "3                      3                   4                     4  ...   \n",
       "4                      4                   5                     5  ...   \n",
       "\n",
       "   Digital_content_Present  Active_Investor_Present  Edu_instit_fee_Present  \\\n",
       "0                        3                        2                       3   \n",
       "1                        1                        5                       4   \n",
       "2                        3                        3                       3   \n",
       "3                        3                        3                       4   \n",
       "4                        2                        3                       4   \n",
       "\n",
       "   Change_in_data_consumption  Spend_on_gadgets_Present  \\\n",
       "0                           1                         4   \n",
       "1                           2                         3   \n",
       "2                           1                         3   \n",
       "3                           2                         4   \n",
       "4                           2                         3   \n",
       "\n",
       "   Spend_on_Luxury_Present  Track_Household_exp_Present  \\\n",
       "0                        1                            2   \n",
       "1                        2                            0   \n",
       "2                        2                            2   \n",
       "3                        3                            1   \n",
       "4                        2                            2   \n",
       "\n",
       "   Domestic_help_Present  Spending_kind_Present  ID  \n",
       "0                      1                      1   1  \n",
       "1                      2                      1   3  \n",
       "2                      0                      0   4  \n",
       "3                      0                      1   5  \n",
       "4                      0                      0   6  \n",
       "\n",
       "[5 rows x 46 columns]"
      ]
     },
     "execution_count": 52,
     "metadata": {},
     "output_type": "execute_result"
    }
   ],
   "source": [
    "data_present.head()"
   ]
  },
  {
   "cell_type": "code",
   "execution_count": 53,
   "metadata": {},
   "outputs": [],
   "source": [
    "#miscellanous features were dropped which were not required for modelling.\n",
    "data_present.drop(columns=['Unnamed: 0','ID'],inplace=True)"
   ]
  },
  {
   "cell_type": "code",
   "execution_count": 54,
   "metadata": {},
   "outputs": [],
   "source": [
    "#statisctical test to identify which features have significant relationship with the target variable\n",
    "#16 features were found to have significant relationship and these features have been selected as model was perfoming well with these.\n",
    "from scipy.stats import chi2_contingency\n",
    "\n",
    "sigini_vars=[]\n",
    "\n",
    "for i in data_present.columns:\n",
    "    #contingency table\n",
    "    table=pd.crosstab(index=data_present[i],columns=data_present['Spending_kind_Present'])\n",
    "    \n",
    "    #chi-sqaure goodness of fit test\n",
    "    stats,p_value,dof,ideal_exp=chi2_contingency(table)\n",
    "    \n",
    "    if p_value<0.05:\n",
    "        sigini_vars.append(i)"
   ]
  },
  {
   "cell_type": "code",
   "execution_count": 55,
   "metadata": {},
   "outputs": [],
   "source": [
    "from sklearn.tree import DecisionTreeClassifier\n",
    "from sklearn.model_selection import train_test_split\n",
    "from sklearn.model_selection import cross_val_score\n",
    "from sklearn.model_selection import KFold\n",
    "from sklearn.metrics import classification_report,confusion_matrix"
   ]
  },
  {
   "cell_type": "code",
   "execution_count": 98,
   "metadata": {},
   "outputs": [],
   "source": [
    "#dividing the independent and dependent variables, with significant features choosen\n",
    "#All other combinations were tried and these significant features model was the best out of all\n",
    "X=data_present[sigini_vars].drop(columns='Spending_kind_Present')\n",
    "y=data_present['Spending_kind_Present']"
   ]
  },
  {
   "cell_type": "code",
   "execution_count": 99,
   "metadata": {},
   "outputs": [],
   "source": [
    "X_train, X_test, y_train, y_test = train_test_split(X, y, test_size=0.3)"
   ]
  },
  {
   "cell_type": "markdown",
   "metadata": {},
   "source": [
    "### Base model : Decision Tree"
   ]
  },
  {
   "cell_type": "code",
   "execution_count": 88,
   "metadata": {},
   "outputs": [],
   "source": [
    "DT_pre=DecisionTreeClassifier()"
   ]
  },
  {
   "cell_type": "code",
   "execution_count": 90,
   "metadata": {},
   "outputs": [],
   "source": [
    "#cross_val_training score\n",
    "kfold=KFold(shuffle=True,n_splits=3,random_state=0)\n",
    "scores=cross_val_score(DT_pre,X_train,y_train,cv=kfold,scoring='f1_weighted')"
   ]
  },
  {
   "cell_type": "code",
   "execution_count": 91,
   "metadata": {},
   "outputs": [
    {
     "name": "stdout",
     "output_type": "stream",
     "text": [
      "0.6043592036612719\n",
      "0.007840511314515389\n"
     ]
    }
   ],
   "source": [
    "print(scores.mean())\n",
    "print(scores.var())\n",
    "#bias error of 40% and variance error of 0.7%, which says model is performing decent and consistent"
   ]
  },
  {
   "cell_type": "code",
   "execution_count": 92,
   "metadata": {},
   "outputs": [
    {
     "data": {
      "text/plain": [
       "DecisionTreeClassifier()"
      ]
     },
     "execution_count": 92,
     "metadata": {},
     "output_type": "execute_result"
    }
   ],
   "source": [
    "DT_pre.fit(X_train,y_train)"
   ]
  },
  {
   "cell_type": "code",
   "execution_count": 94,
   "metadata": {},
   "outputs": [
    {
     "name": "stdout",
     "output_type": "stream",
     "text": [
      "              precision    recall  f1-score   support\n",
      "\n",
      "           0       0.38      0.45      0.41        40\n",
      "           1       0.69      0.66      0.67        83\n",
      "           2       0.38      0.25      0.30        12\n",
      "\n",
      "    accuracy                           0.56       135\n",
      "   macro avg       0.48      0.45      0.46       135\n",
      "weighted avg       0.57      0.56      0.56       135\n",
      "\n",
      "----------------------------------------\n",
      "[[18 21  1]\n",
      " [24 55  4]\n",
      " [ 5  4  3]]\n"
     ]
    }
   ],
   "source": [
    "pred_pre=DT_pre.predict(X_test)\n",
    "print(classification_report(y_test,pred_pre))\n",
    "print('-'*40)\n",
    "print(confusion_matrix(y_test,pred_pre))"
   ]
  },
  {
   "cell_type": "markdown",
   "metadata": {},
   "source": [
    "### Final model: Gradient Boost Algorithm"
   ]
  },
  {
   "cell_type": "markdown",
   "metadata": {},
   "source": [
    "- Other models such as KNN, RF were performed and results were compared.\n",
    "- SMOTE was also applied on the data and performance was compared.\n",
    "- Gradient boost algorithm with default estimator as DT on imbalance data performed well out of all models.\n",
    "- As we have differently imputed datasets, modelling was performed on all those datasets and very close results were noticed.\n",
    "- Gradient boost was best model for all three datasets, and below is the comparision of all three models.\n",
    "\n",
    "\n",
    "MODELS USED:\n",
    "- Decision Tree\n",
    "- KNN\n",
    "- Random Forest\n",
    "- Boosted Decision Tree\n",
    "- Boosted Random forest\n",
    "- Gradient Boost"
   ]
  },
  {
   "cell_type": "markdown",
   "metadata": {},
   "source": [
    "#### Knn imputed dataset"
   ]
  },
  {
   "cell_type": "code",
   "execution_count": 144,
   "metadata": {},
   "outputs": [],
   "source": [
    "from sklearn.ensemble import GradientBoostingClassifier\n",
    "GBoost_signi=GradientBoostingClassifier(n_estimators=50)"
   ]
  },
  {
   "cell_type": "code",
   "execution_count": 145,
   "metadata": {},
   "outputs": [],
   "source": [
    "#cross_val_training score\n",
    "kfold=KFold(shuffle=True,n_splits=3,random_state=0)\n",
    "scores=cross_val_score(GBoost_signi, X_train, y_train,cv=kfold,scoring='f1_weighted')"
   ]
  },
  {
   "cell_type": "code",
   "execution_count": 66,
   "metadata": {},
   "outputs": [
    {
     "name": "stdout",
     "output_type": "stream",
     "text": [
      "0.600127107311022\n",
      "0.0007789432724900916\n"
     ]
    }
   ],
   "source": [
    "print(scores.mean())\n",
    "print(scores.var())"
   ]
  },
  {
   "cell_type": "code",
   "execution_count": 146,
   "metadata": {},
   "outputs": [
    {
     "data": {
      "text/plain": [
       "GradientBoostingClassifier(n_estimators=50)"
      ]
     },
     "execution_count": 146,
     "metadata": {},
     "output_type": "execute_result"
    }
   ],
   "source": [
    "GBoost_signi.fit(X_train, y_train)"
   ]
  },
  {
   "cell_type": "code",
   "execution_count": 13,
   "metadata": {},
   "outputs": [
    {
     "name": "stdout",
     "output_type": "stream",
     "text": [
      "              precision    recall  f1-score   support\n",
      "\n",
      "           0       0.53      0.39      0.45        44\n",
      "           1       0.67      0.81      0.73        81\n",
      "           2       0.50      0.20      0.29        10\n",
      "\n",
      "    accuracy                           0.63       135\n",
      "   macro avg       0.57      0.47      0.49       135\n",
      "weighted avg       0.61      0.63      0.61       135\n",
      "\n",
      "----------------------------------------\n",
      "[[17 27  0]\n",
      " [13 66  2]\n",
      " [ 2  6  2]]\n"
     ]
    }
   ],
   "source": [
    "pred_GBoost_signi = GBoost_signi.predict(X_test) \n",
    "\n",
    "print(classification_report(y_test,pred_GBoost_signi)) \n",
    "print('-'*40) \n",
    "print(confusion_matrix(y_test,pred_GBoost_signi)) "
   ]
  },
  {
   "cell_type": "markdown",
   "metadata": {},
   "source": [
    "#### modelling imputation dataset"
   ]
  },
  {
   "cell_type": "code",
   "execution_count": 29,
   "metadata": {},
   "outputs": [],
   "source": [
    "data_present2=pd.read_csv('Present_Encoded_Imputed.csv')"
   ]
  },
  {
   "cell_type": "code",
   "execution_count": 30,
   "metadata": {},
   "outputs": [],
   "source": [
    "from scipy.stats import chi2_contingency \n",
    "\n",
    "sigini_vars2=[]\n",
    "\n",
    "for i in data_present2.columns:\n",
    "    #contingency table\n",
    "    table=pd.crosstab(index=data_present2[i],columns=data_present2['Spending_kind_Present'])\n",
    "    \n",
    "    #chi-sqaure goodness of fit test\n",
    "    stats,p_value,dof,ideal_exp=chi2_contingency(table)\n",
    "    \n",
    "    if p_value<0.05:\n",
    "        sigini_vars2.append(i)"
   ]
  },
  {
   "cell_type": "code",
   "execution_count": 31,
   "metadata": {},
   "outputs": [],
   "source": [
    "X=data_present2[sigini_vars2].drop(columns='Spending_kind_Present')\n",
    "y=data_present2['Spending_kind_Present']"
   ]
  },
  {
   "cell_type": "code",
   "execution_count": 32,
   "metadata": {},
   "outputs": [],
   "source": [
    "X_train, X_test, y_train, y_test = train_test_split(X, y, test_size=0.3)"
   ]
  },
  {
   "cell_type": "code",
   "execution_count": 33,
   "metadata": {},
   "outputs": [],
   "source": [
    "GBoost_signi2=GradientBoostingClassifier(n_estimators=50)"
   ]
  },
  {
   "cell_type": "code",
   "execution_count": 34,
   "metadata": {},
   "outputs": [],
   "source": [
    "#cross_val_training score\n",
    "kfold=KFold(shuffle=True,n_splits=3,random_state=0)\n",
    "scores2=cross_val_score(GBoost_signi2, X_train, y_train,cv=kfold,scoring='f1_weighted')"
   ]
  },
  {
   "cell_type": "code",
   "execution_count": 35,
   "metadata": {},
   "outputs": [
    {
     "name": "stdout",
     "output_type": "stream",
     "text": [
      "0.5902895533896056\n",
      "0.0027824603003535494\n"
     ]
    }
   ],
   "source": [
    "print(scores2.mean())\n",
    "print(scores2.var())"
   ]
  },
  {
   "cell_type": "code",
   "execution_count": 36,
   "metadata": {},
   "outputs": [
    {
     "data": {
      "text/plain": [
       "GradientBoostingClassifier(n_estimators=50)"
      ]
     },
     "execution_count": 36,
     "metadata": {},
     "output_type": "execute_result"
    }
   ],
   "source": [
    "GBoost_signi2.fit(X_train, y_train)"
   ]
  },
  {
   "cell_type": "code",
   "execution_count": 37,
   "metadata": {},
   "outputs": [
    {
     "name": "stdout",
     "output_type": "stream",
     "text": [
      "              precision    recall  f1-score   support\n",
      "\n",
      "         0.0       0.75      0.40      0.52        15\n",
      "         1.0       0.39      0.25      0.31        51\n",
      "         2.0       0.65      0.82      0.73        95\n",
      "\n",
      "    accuracy                           0.60       161\n",
      "   macro avg       0.60      0.49      0.52       161\n",
      "weighted avg       0.58      0.60      0.57       161\n",
      "\n",
      "----------------------------------------\n",
      "[[ 6  3  6]\n",
      " [ 2 13 36]\n",
      " [ 0 17 78]]\n"
     ]
    }
   ],
   "source": [
    "pred_GBoost_signi2 = GBoost_signi2.predict(X_test) \n",
    "\n",
    "print(classification_report(y_test,pred_GBoost_signi2)) \n",
    "print('-'*40) \n",
    "print(confusion_matrix(y_test,pred_GBoost_signi2)) "
   ]
  },
  {
   "cell_type": "markdown",
   "metadata": {},
   "source": [
    "#### MICE (R) imputed dataset"
   ]
  },
  {
   "cell_type": "code",
   "execution_count": 39,
   "metadata": {},
   "outputs": [],
   "source": [
    "data_present3=pd.read_csv('Present_Encoded_Imputed_R.csv')"
   ]
  },
  {
   "cell_type": "code",
   "execution_count": 41,
   "metadata": {},
   "outputs": [],
   "source": [
    "sigini_vars3=[]\n",
    "\n",
    "for i in data_present3.columns:\n",
    "    #contingency table\n",
    "    table=pd.crosstab(index=data_present3[i],columns=data_present3['Spending_kind_Present'])\n",
    "    \n",
    "    #chi-sqaure goodness of fit test\n",
    "    stats,p_value,dof,ideal_exp=chi2_contingency(table)\n",
    "    \n",
    "    if p_value<0.05:\n",
    "        sigini_vars3.append(i)"
   ]
  },
  {
   "cell_type": "code",
   "execution_count": 42,
   "metadata": {},
   "outputs": [],
   "source": [
    "X=data_present3[sigini_vars3].drop(columns='Spending_kind_Present')\n",
    "y=data_present3['Spending_kind_Present']"
   ]
  },
  {
   "cell_type": "code",
   "execution_count": 43,
   "metadata": {},
   "outputs": [],
   "source": [
    "X_train, X_test, y_train, y_test = train_test_split(X, y, test_size=0.3)"
   ]
  },
  {
   "cell_type": "code",
   "execution_count": 44,
   "metadata": {},
   "outputs": [],
   "source": [
    "GBoost_signi3=GradientBoostingClassifier(n_estimators=50)"
   ]
  },
  {
   "cell_type": "code",
   "execution_count": 45,
   "metadata": {},
   "outputs": [],
   "source": [
    "#cross_val_training score\n",
    "kfold=KFold(shuffle=True,n_splits=3,random_state=0)\n",
    "scores3=cross_val_score(GBoost_signi3, X_train, y_train,cv=kfold,scoring='f1_weighted')"
   ]
  },
  {
   "cell_type": "code",
   "execution_count": 46,
   "metadata": {},
   "outputs": [
    {
     "name": "stdout",
     "output_type": "stream",
     "text": [
      "0.5928931416229493\n",
      "0.004140606096754374\n"
     ]
    }
   ],
   "source": [
    "print(scores3.mean())\n",
    "print(scores3.var())"
   ]
  },
  {
   "cell_type": "code",
   "execution_count": 48,
   "metadata": {},
   "outputs": [
    {
     "data": {
      "text/plain": [
       "GradientBoostingClassifier(n_estimators=50)"
      ]
     },
     "execution_count": 48,
     "metadata": {},
     "output_type": "execute_result"
    }
   ],
   "source": [
    "GBoost_signi3.fit(X_train, y_train)"
   ]
  },
  {
   "cell_type": "code",
   "execution_count": 49,
   "metadata": {},
   "outputs": [
    {
     "name": "stdout",
     "output_type": "stream",
     "text": [
      "              precision    recall  f1-score   support\n",
      "\n",
      "         0.0       0.60      0.17      0.26        18\n",
      "         1.0       0.43      0.28      0.34        43\n",
      "         2.0       0.66      0.84      0.74       100\n",
      "\n",
      "    accuracy                           0.61       161\n",
      "   macro avg       0.56      0.43      0.45       161\n",
      "weighted avg       0.59      0.61      0.58       161\n",
      "\n",
      "----------------------------------------\n",
      "[[ 3  2 13]\n",
      " [ 0 12 31]\n",
      " [ 2 14 84]]\n"
     ]
    }
   ],
   "source": [
    "pred_GBoost_signi3 = GBoost_signi3.predict(X_test) \n",
    "\n",
    "print(classification_report(y_test,pred_GBoost_signi3)) \n",
    "print('-'*40) \n",
    "print(confusion_matrix(y_test,pred_GBoost_signi3)) "
   ]
  },
  {
   "cell_type": "markdown",
   "metadata": {},
   "source": [
    "#### Visual comparisions of all final models"
   ]
  },
  {
   "cell_type": "code",
   "execution_count": 74,
   "metadata": {},
   "outputs": [],
   "source": [
    "results=pd.DataFrame({'KNN imputed':scores,'Modelling imputed':scores2,'MICE(R) imputed':scores3})"
   ]
  },
  {
   "cell_type": "code",
   "execution_count": 87,
   "metadata": {},
   "outputs": [
    {
     "data": {
      "image/png": "[encoded data removed]",
      "text/plain": [
       "<Figure size 432x432 with 1 Axes>"
      ]
     },
     "metadata": {},
     "output_type": "display_data"
    }
   ],
   "source": [
    "plt.figure(figsize=(6,6)) \n",
    "sns.set_style(\"whitegrid\") \n",
    "sns.boxplot(data=results, palette=\"BuGn_r\") \n",
    "plt.savefig('results.png') \n",
    "plt.title('Training accuracies of the final models') \n",
    "plt.show() "
   ]
  },
  {
   "cell_type": "markdown",
   "metadata": {},
   "source": [
    "- we can clearly observe the KNN imputed dataset has better and consistent performance over other models.\n",
    "- Hence Knn imputed dataset with gradient boosting algorithm model will be considered for final model.\n",
    "- Training accuracy:60\n",
    "- Testing accuracy:63"
   ]
  },
  {
   "cell_type": "markdown",
   "metadata": {},
   "source": [
    "#### Predicting the validation data"
   ]
  },
  {
   "cell_type": "code",
   "execution_count": 139,
   "metadata": {},
   "outputs": [],
   "source": [
    "#A dataset with no target variable was seperated from the data for validation purpose. \n",
    "Validation=pd.read_excel('validation_present_KNN.xlsx')"
   ]
  },
  {
   "cell_type": "code",
   "execution_count": 140,
   "metadata": {},
   "outputs": [],
   "source": [
    "#miscellanous features were dropped which were not required for modelling.\n",
    "Validation.drop(columns=['Unnamed: 0','ID'],inplace=True)"
   ]
  },
  {
   "cell_type": "code",
   "execution_count": 147,
   "metadata": {},
   "outputs": [],
   "source": [
    "predicted = GBoost_signi.predict(Validation[sigini_vars])"
   ]
  },
  {
   "cell_type": "code",
   "execution_count": 150,
   "metadata": {},
   "outputs": [],
   "source": [
    "Validation['Spending type']=predicted"
   ]
  },
  {
   "cell_type": "code",
   "execution_count": 151,
   "metadata": {},
   "outputs": [],
   "source": [
    "#Validation.to_excel('Predicted_spending_class.xlsx')"
   ]
  }
 ],
 "metadata": {
  "kernelspec": {
   "display_name": "Python 3",
   "language": "python",
   "name": "python3"
  },
  "language_info": {
   "codemirror_mode": {
    "name": "ipython",
    "version": 3
   },
   "file_extension": ".py",
   "mimetype": "text/x-python",
   "name": "python",
   "nbconvert_exporter": "python",
   "pygments_lexer": "ipython3",
   "version": "3.8.3"
  }
 },
 "nbformat": 4,
 "nbformat_minor": 4
}
