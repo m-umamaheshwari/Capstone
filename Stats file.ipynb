{
 "cells": [
  {
   "cell_type": "markdown",
   "metadata": {},
   "source": [
    "## Statistical tests to derive relationships"
   ]
  },
  {
   "cell_type": "markdown",
   "metadata": {},
   "source": [
    "In order to derive relationships between variables, two types of statistical tests were performed:\n",
    "\n",
    "- Test of difference in proportion\n",
    "- Test of independence\n",
    "\n",
    "For Test of difference in proportion, wilcoxon signed ranked test where the objective was to identify the features which had significant change in their responses.\n",
    "\n",
    "For Test of independence, Chi-Square test of indepence was used to identify features which have significant relationship with their target variables."
   ]
  },
  {
   "cell_type": "code",
   "execution_count": 1,
   "metadata": {},
   "outputs": [],
   "source": [
    "import numpy as np\n",
    "import pandas as pd\n",
    "import matplotlib.pyplot as plt\n",
    "import seaborn as sns"
   ]
  },
  {
   "cell_type": "code",
   "execution_count": 2,
   "metadata": {},
   "outputs": [],
   "source": [
    "data_before=pd.read_excel('Full_before_knn.xlsx')"
   ]
  },
  {
   "cell_type": "code",
   "execution_count": 3,
   "metadata": {},
   "outputs": [],
   "source": [
    "data_present=pd.read_excel('Full_present_knn.xlsx')"
   ]
  },
  {
   "cell_type": "markdown",
   "metadata": {},
   "source": [
    "### Test of proportion\n",
    "\n",
    "wilcoxon signed ranked test\n",
    "\n",
    "This test is used when the samples are related or matched in some way or represent two measurements of the same technique.\n",
    "More specifically, each sample is independent, but comes from the same population.\n",
    "\n",
    "    H0 : No significant difference in responses by individuals for a question before and during pandemic\n",
    "    \n",
    "    Hn : significant difference in responses by individuals for a question before and during pandemic "
   ]
  },
  {
   "cell_type": "code",
   "execution_count": 4,
   "metadata": {},
   "outputs": [],
   "source": [
    "# Preprocessed data was used here.\n",
    "# A dictionary with features that follow same scale were selected and paired from both the dataframes \n",
    "\n",
    "dict_columns={'Emp_stat_Before':'Emp_stat_Present',\n",
    "              'Notice_things_Before':'Notice_things_Present',\n",
    "             'All_angles_Before':'All_angles_Present',\n",
    "             'Sincere_prod_Before':'Sincere_prod_Present',\n",
    "             'Lonely_Before':'Lonely_Present',\n",
    "              'Worry_health_Before':'Worry_health_Present',\n",
    "              'Charity_Before':'Charity_Present',\n",
    "              'New_env_Before':'New_env_Present',\n",
    "              'Meeting_ppl_Before':'Meeting_ppl_Present',\n",
    "              'Hob_interests_Before':'Hob_interests_Present',\n",
    "              'Surveys_Before':'Surveys_Present',\n",
    "              'Spent_onli_Before':'Spent_onli_Present',\n",
    "              'WFH_office_Before':'WFH_office_Present',\n",
    "              'Enthu_Before':'Ethu_Present',\n",
    "              'Smoking_hab_Before':'Smoking_hab_Present',\n",
    "              'Drinking_hab_Before':'Drinking_hab_Present',\n",
    "              'Sleeping_hab_Before':'Sleeping_hab_Present',\n",
    "              'Healthy_Lifestyle_Before':'Healthy_Lifestyle_Present',\n",
    "              'Medi_pref_Before':'Medi_pref_Present',\n",
    "              'Pol_interest_Before':'Pol_interest_Present',\n",
    "              'Internet_interest_Before':'Internet_interest_Present',\n",
    "              'Economy_Manag_intrst_Before':'Economy_Manag_intrst_Present',\n",
    "              'Medicine_intrst_Before':'Medicine_intrst_Present',\n",
    "              'Religion_intrst_Before':'Religion_intrst_Present',\n",
    "              'Save_all_money_Before':'Save_all_money_Present',\n",
    "              'Brand_non-brand_Before':'Brand_non-brand_Present',\n",
    "              'Food_pref_Before':'Food_pref_Present',\n",
    "              'Mode_of_transport_Before':'Mode_of_transport_Present',\n",
    "              'Basic_medications_Before':'Basic_medications_Present',\n",
    "              'Digital_content_Before':'Digital_content_Present',\n",
    "              'Active_Investor_Before':'Active_Investor_Present',\n",
    "              'Edu_instit_fee_Before':'Edu_instit_fee_Present',\n",
    "              'Spend_on_gadgets_Before':'Spend_on_gadgets_Present',\n",
    "              'spend_on_Luxury_Before':'Spend_on_Luxury_Present',\n",
    "              'Track_Household_exp_Before':'Track_Household_exp_Present',\n",
    "              'Spending_kind_Before':'Spending_kind_Present'\n",
    "              }"
   ]
  },
  {
   "cell_type": "code",
   "execution_count": 5,
   "metadata": {},
   "outputs": [],
   "source": [
    "from scipy.stats import wilcoxon,chi2_contingency\n",
    "diff_in_prop=[]\n",
    "for item in dict_columns:\n",
    "    stats,p=wilcoxon(data_before[item],data_present[dict_columns[item]])\n",
    "    \n",
    "    if p<0.05:\n",
    "        diff_in_prop.append(item)"
   ]
  },
  {
   "cell_type": "code",
   "execution_count": 6,
   "metadata": {},
   "outputs": [
    {
     "data": {
      "text/plain": [
       "['Emp_stat_Before',\n",
       " 'Notice_things_Before',\n",
       " 'All_angles_Before',\n",
       " 'Sincere_prod_Before',\n",
       " 'Lonely_Before',\n",
       " 'Worry_health_Before',\n",
       " 'Charity_Before',\n",
       " 'New_env_Before',\n",
       " 'Meeting_ppl_Before',\n",
       " 'Spent_onli_Before',\n",
       " 'WFH_office_Before',\n",
       " 'Enthu_Before',\n",
       " 'Smoking_hab_Before',\n",
       " 'Drinking_hab_Before',\n",
       " 'Sleeping_hab_Before',\n",
       " 'Medi_pref_Before',\n",
       " 'Pol_interest_Before',\n",
       " 'Internet_interest_Before',\n",
       " 'Economy_Manag_intrst_Before',\n",
       " 'Medicine_intrst_Before',\n",
       " 'Save_all_money_Before',\n",
       " 'Food_pref_Before',\n",
       " 'Mode_of_transport_Before',\n",
       " 'Basic_medications_Before',\n",
       " 'Digital_content_Before',\n",
       " 'Edu_instit_fee_Before',\n",
       " 'spend_on_Luxury_Before',\n",
       " 'Track_Household_exp_Before',\n",
       " 'Spending_kind_Before']"
      ]
     },
     "execution_count": 6,
     "metadata": {},
     "output_type": "execute_result"
    }
   ],
   "source": [
    "# Below are 28 features whose responses has significant difference\n",
    "diff_in_prop \n",
    "\n",
    "#took their names from before dataset"
   ]
  },
  {
   "cell_type": "markdown",
   "metadata": {},
   "source": [
    "###  Test of independence\n",
    "\n",
    "\n",
    "Chi-Sqaure test of independence with below hypothesis\n",
    "\n",
    "    H0 : No significant relationship between the Variables.The variables are independent.\n",
    "    \n",
    "    Hn : A relationship between the variables exists."
   ]
  },
  {
   "cell_type": "code",
   "execution_count": 7,
   "metadata": {},
   "outputs": [],
   "source": [
    "sigini_vars=[]\n",
    "\n",
    "for i in data_before.columns:\n",
    "    #contingency table\n",
    "    table=pd.crosstab(index=data_before[i],columns=data_before['Spending_kind_Before'])\n",
    "    \n",
    "    #chi-sqaure goodness of fit test\n",
    "    stats,p_value,dof,ideal_exp=chi2_contingency(table)\n",
    "    \n",
    "    if p_value<0.05:\n",
    "        sigini_vars.append(i)\n"
   ]
  },
  {
   "cell_type": "code",
   "execution_count": 8,
   "metadata": {},
   "outputs": [
    {
     "data": {
      "text/plain": [
       "['Income',\n",
       " 'Gender',\n",
       " 'Notice_things_Before',\n",
       " 'All_angles_Before',\n",
       " 'Lonely_Before',\n",
       " 'Charity_Before',\n",
       " 'Meeting_ppl_Before',\n",
       " 'Spent_onli_Before',\n",
       " 'WFH_office_Before',\n",
       " 'Smoking_hab_Before',\n",
       " 'Drinking_hab_Before',\n",
       " 'Healthy_Lifestyle_Before',\n",
       " 'Internet_interest_Before',\n",
       " 'Religion_intrst_Before',\n",
       " 'Save_all_money_Before',\n",
       " 'Brand_non-brand_Before',\n",
       " 'Food_pref_Before',\n",
       " 'Basic_medications_Before',\n",
       " 'Digital_content_Before',\n",
       " 'Active_Investor_Before',\n",
       " 'Edu_instit_fee_Before',\n",
       " 'Spend_on_gadgets_Before',\n",
       " 'spend_on_Luxury_Before',\n",
       " 'Track_Household_exp_Before',\n",
       " 'Domestic_help_Before',\n",
       " 'Spending_kind_Before']"
      ]
     },
     "execution_count": 8,
     "metadata": {},
     "output_type": "execute_result"
    }
   ],
   "source": [
    "# Below are 25 features excluding target variable who has siginificant relationship with target variable\n",
    "\n",
    "# These features can be applied in model building for feature selection (possible application)\n",
    "sigini_vars"
   ]
  },
  {
   "cell_type": "code",
   "execution_count": 9,
   "metadata": {},
   "outputs": [],
   "source": [
    "sigini_vars_pre=[]\n",
    "\n",
    "for i in data_present.columns:\n",
    "    #contingency table\n",
    "    table=pd.crosstab(index=data_present[i],columns=data_present['Spending_kind_Present'])\n",
    "    \n",
    "    #chi-sqaure goodness of fit test\n",
    "    stats,p_value,dof,ideal_exp=chi2_contingency(table)\n",
    "    \n",
    "    if p_value<0.05:\n",
    "        sigini_vars_pre.append(i)\n"
   ]
  },
  {
   "cell_type": "code",
   "execution_count": 10,
   "metadata": {},
   "outputs": [
    {
     "data": {
      "text/plain": [
       "['Emp_stat_Present',\n",
       " 'Gender',\n",
       " 'All_angles_Present',\n",
       " 'Hob_interests_Present',\n",
       " 'Income_Change',\n",
       " 'Smoking_hab_Present',\n",
       " 'Internet_interest_Present',\n",
       " 'Save_all_money_Present',\n",
       " 'Brand_non-brand_Present',\n",
       " 'Food_pref_Present',\n",
       " 'Basic_medications_Present',\n",
       " 'Digital_content_Present',\n",
       " 'Active_Investor_Present',\n",
       " 'Edu_instit_fee_Present',\n",
       " 'Spend_on_gadgets_Present',\n",
       " 'Spend_on_Luxury_Present',\n",
       " 'Track_Household_exp_Present',\n",
       " 'Spending_kind_Present']"
      ]
     },
     "execution_count": 10,
     "metadata": {},
     "output_type": "execute_result"
    }
   ],
   "source": [
    "# Below are 16 features excluding target variable who has siginificant relationship with target variable\n",
    "\n",
    "# These features can be applied in model building for feature selection (possible application)\n",
    "sigini_vars_pre"
   ]
  },
  {
   "cell_type": "code",
   "execution_count": 11,
   "metadata": {},
   "outputs": [],
   "source": [
    "# we also wanted to check on multi-collinearity in the data, hence performed the test with all the features\n",
    "\n",
    "overlap={}\n",
    "\n",
    "for i in data_before.columns:\n",
    "    for j in data_before.columns:\n",
    "        table=pd.crosstab(index=data_before[i],columns=data_before[j])\n",
    "        \n",
    "        stats,p_value,dof,ideal_exp=chi2_contingency(table)\n",
    "        \n",
    "        if p_value<0.05:\n",
    "            overlap[i]=j"
   ]
  },
  {
   "cell_type": "code",
   "execution_count": 12,
   "metadata": {},
   "outputs": [
    {
     "name": "stdout",
     "output_type": "stream",
     "text": [
      "Age : Domestic_help_Before\n",
      "\n",
      "Emp_stat_Before : Domestic_help_Before\n",
      "\n",
      "Marital_status : Domestic_help_Before\n",
      "\n",
      "Loc : Domestic_help_Before\n",
      "\n",
      "Sincere_prod_Before : Track_Household_exp_Before\n",
      "\n",
      "Worry_health_Before : spend_on_Luxury_Before\n",
      "\n",
      "New_env_Before : Spend_on_gadgets_Before\n",
      "\n",
      "Hob_interests_Before : Edu_instit_fee_Before\n",
      "\n",
      "Surveys_Before : Track_Household_exp_Before\n",
      "\n",
      "Enthu_Before : Track_Household_exp_Before\n",
      "\n",
      "Sleeping_hab_Before : Track_Household_exp_Before\n",
      "\n",
      "Medi_pref_Before : Food_pref_Before\n",
      "\n",
      "Pol_interest_Before : spend_on_Luxury_Before\n",
      "\n",
      "Economy_Manag_intrst_Before : Edu_instit_fee_Before\n",
      "\n",
      "Medicine_intrst_Before : Edu_instit_fee_Before\n",
      "\n",
      "Mode_of_transport_Before : Spend_on_gadgets_Before\n",
      "\n"
     ]
    }
   ],
   "source": [
    "# here when observed we notice that many features have relationship with target feature, hence filtering out target feature\n",
    "for item in overlap:\n",
    "    if overlap[item] != 'Spending_kind_Before' :\n",
    "        print(item,':',overlap[item])\n",
    "        print()"
   ]
  },
  {
   "cell_type": "markdown",
   "metadata": {},
   "source": [
    "- we can observe that most of the features have relationship with domestic help, tracking household expenses and gadgets.\n",
    "\n",
    "- Hence, this proves there is very less multi- collinearity in the before data"
   ]
  },
  {
   "cell_type": "code",
   "execution_count": 13,
   "metadata": {},
   "outputs": [],
   "source": [
    "#for present dataset\n",
    "overlap_pre={}\n",
    "\n",
    "for i in data_present.columns:\n",
    "    for j in data_present.columns:\n",
    "        table=pd.crosstab(index=data_present[i],columns=data_present[j])\n",
    "        \n",
    "        stats,p_value,dof,ideal_exp=chi2_contingency(table)\n",
    "        \n",
    "        if p_value<0.05:\n",
    "            overlap_pre[i]=j"
   ]
  },
  {
   "cell_type": "code",
   "execution_count": 14,
   "metadata": {},
   "outputs": [
    {
     "name": "stdout",
     "output_type": "stream",
     "text": [
      "Age : Domestic_help_Present\n",
      "\n",
      "Income : Domestic_help_Present\n",
      "\n",
      "Marital_status : Domestic_help_Present\n",
      "\n",
      "Loc : Domestic_help_Present\n",
      "\n",
      "Notice_things_Present : Track_Household_exp_Present\n",
      "\n",
      "Sincere_prod_Present : Edu_instit_fee_Present\n",
      "\n",
      "Lonely_Present : Spend_on_gadgets_Present\n",
      "\n",
      "Worry_health_Present : Spend_on_gadgets_Present\n",
      "\n",
      "Charity_Present : Spend_on_gadgets_Present\n",
      "\n",
      "New_env_Present : Spend_on_gadgets_Present\n",
      "\n",
      "Meeting_ppl_Present : Track_Household_exp_Present\n",
      "\n",
      "Surveys_Present : Spend_on_Luxury_Present\n",
      "\n",
      "Spent_onli_Present : Spend_on_gadgets_Present\n",
      "\n",
      "WFH_office_Present : Edu_instit_fee_Present\n",
      "\n",
      "Ethu_Present : Track_Household_exp_Present\n",
      "\n",
      "Drinking_hab_Present : Domestic_help_Present\n",
      "\n",
      "Sleeping_hab_Present : Edu_instit_fee_Present\n",
      "\n",
      "Healthy_Lifestyle_Present : Spend_on_Luxury_Present\n",
      "\n",
      "Medi_pref_Present : Economy_Manag_intrst_Present\n",
      "\n",
      "Pol_interest_Present : Spend_on_Luxury_Present\n",
      "\n",
      "Economy_Manag_intrst_Present : Domestic_help_Present\n",
      "\n",
      "Medicine_intrst_Present : Edu_instit_fee_Present\n",
      "\n",
      "Religion_intrst_Present : Domestic_help_Present\n",
      "\n",
      "Mode_of_transport_Present : Spend_on_gadgets_Present\n",
      "\n",
      "Change_in_data_consumption : Change_in_data_consumption\n",
      "\n",
      "Domestic_help_Present : Domestic_help_Present\n",
      "\n"
     ]
    }
   ],
   "source": [
    "# here when observed we notice that many features have relationship with target feature, hence filtering out target feature\n",
    "for item in overlap_pre:\n",
    "    if overlap_pre[item] != 'Spending_kind_Present' :\n",
    "        print(item,':',overlap_pre[item])\n",
    "        print()"
   ]
  },
  {
   "cell_type": "markdown",
   "metadata": {},
   "source": [
    "- we can observe that most of the features have relationship with domestic help, tracking household expenses and gadgets.\n",
    "\n",
    "- Hence, this proves there is very less multi- collinearity in the Present data"
   ]
  },
  {
   "cell_type": "markdown",
   "metadata": {},
   "source": [
    "# For MICE(R) data "
   ]
  },
  {
   "cell_type": "code",
   "execution_count": 15,
   "metadata": {},
   "outputs": [],
   "source": [
    "#similar steps were performed\n",
    "\n",
    "data_before_mice=pd.read_excel('Before_mice.xlsx')"
   ]
  },
  {
   "cell_type": "code",
   "execution_count": 16,
   "metadata": {},
   "outputs": [],
   "source": [
    "data_present_mice=pd.read_excel('Present_mice.xlsx')"
   ]
  },
  {
   "cell_type": "code",
   "execution_count": 17,
   "metadata": {},
   "outputs": [],
   "source": [
    "# few columns names were different hence had to define the dictionary again\n",
    "dict_columns_mice={'Emp_stat_Before':'Emp_stat_Present',\n",
    "              'Notice_things_Before':'Notice_things_Present',\n",
    "             'All_angles_Before':'All_angles_Present',\n",
    "             'Sincere_prod_Before':'Sincere_prod_Present',\n",
    "             'Lonely_Before':'Lonely_Present',\n",
    "              'Worry_health_Before':'Worry_health_Present',\n",
    "              'Charity_Before':'Charity_Present',\n",
    "              'New_env_Before':'New_env_Present',\n",
    "              'Meeting_ppl_Before':'Meeting_ppl_Present',\n",
    "              'Hob_interests_Before':'Hob_interests_Present',\n",
    "              'Surveys_Before':'Surveys_Present',\n",
    "              'Spent_onli_Before':'Spent_onli_Present',\n",
    "              'WFH_office_Before':'WFH_office_Present',\n",
    "              'Enthu_Before':'Ethu_Present',\n",
    "              'Smoking_hab_Before':'Smoking_hab_Present',\n",
    "              'Drinking_hab_Before':'Drinking_hab_Present',\n",
    "              'Sleeping_hab_Before':'Sleeping_hab_Present',\n",
    "              'Healthy_Lifestyle_Before':'Healthy_Lifestyle_Present',\n",
    "              'Medi_pref_Before':'Medi_pref_Present',\n",
    "              'Pol_interest_Before':'Pol_interest_Present',\n",
    "              'Internet_interest_Before':'Internet_interest_Present',\n",
    "              'Economy_Manag_intrst_Before':'Economy_Manag_intrst_Present',\n",
    "              'Medicine_intrst_Before':'Medicine_intrst_Present',\n",
    "              'Religion_intrst_Before':'Religion_intrst_Present',\n",
    "              'Save_all_money_Before':'Save_all_money_Present',\n",
    "            'Brand_non_brand_Before':'Brand_non_brand_Present',\n",
    "              'Food_pref_Before':'Food_pref_Present',\n",
    "              'Mode_of_transport_Before':'Mode_of_transport_Present',\n",
    "              'Basic_medications_Before':'Basic_medications_Present',\n",
    "              'Digital_content_Before':'Digital_content_Present',\n",
    "              'Active_Investor_Before':'Active_Investor_Present',\n",
    "              'Edu_instit_fee_Before':'Edu_instit_fee_Present',\n",
    "              'Spend_on_gadgets_Before':'Spend_on_gadgets_Present',\n",
    "              'spend_on_Luxury_Before':'Spend_on_Luxury_Present',\n",
    "              'Track_Household_exp_Before':'Track_Household_exp_Present',\n",
    "              'Spending_kind_Before':'Spending_kind_Present'\n",
    "              }"
   ]
  },
  {
   "cell_type": "code",
   "execution_count": 18,
   "metadata": {},
   "outputs": [],
   "source": [
    "diff_in_prop_mice=[]\n",
    "for item in dict_columns_mice:\n",
    "    stats,p=wilcoxon(data_before_mice[item],data_present_mice[dict_columns_mice[item]])\n",
    "    \n",
    "    if p<0.05:\n",
    "        diff_in_prop_mice.append(item)"
   ]
  },
  {
   "cell_type": "code",
   "execution_count": 19,
   "metadata": {},
   "outputs": [
    {
     "data": {
      "text/plain": [
       "['Emp_stat_Before',\n",
       " 'Notice_things_Before',\n",
       " 'All_angles_Before',\n",
       " 'Sincere_prod_Before',\n",
       " 'Lonely_Before',\n",
       " 'Worry_health_Before',\n",
       " 'Charity_Before',\n",
       " 'New_env_Before',\n",
       " 'Meeting_ppl_Before',\n",
       " 'Spent_onli_Before',\n",
       " 'WFH_office_Before',\n",
       " 'Enthu_Before',\n",
       " 'Smoking_hab_Before',\n",
       " 'Drinking_hab_Before',\n",
       " 'Sleeping_hab_Before',\n",
       " 'Medi_pref_Before',\n",
       " 'Pol_interest_Before',\n",
       " 'Internet_interest_Before',\n",
       " 'Economy_Manag_intrst_Before',\n",
       " 'Medicine_intrst_Before',\n",
       " 'Save_all_money_Before',\n",
       " 'Food_pref_Before',\n",
       " 'Mode_of_transport_Before',\n",
       " 'Basic_medications_Before',\n",
       " 'Digital_content_Before',\n",
       " 'Edu_instit_fee_Before',\n",
       " 'spend_on_Luxury_Before',\n",
       " 'Track_Household_exp_Before',\n",
       " 'Spending_kind_Before']"
      ]
     },
     "execution_count": 19,
     "metadata": {},
     "output_type": "execute_result"
    }
   ],
   "source": [
    "# Below are 29 features whose responses has significant difference\n",
    "diff_in_prop \n",
    "\n",
    "#took their names from before dataset"
   ]
  },
  {
   "cell_type": "code",
   "execution_count": 20,
   "metadata": {},
   "outputs": [],
   "source": [
    "#test of independence"
   ]
  },
  {
   "cell_type": "code",
   "execution_count": 21,
   "metadata": {},
   "outputs": [],
   "source": [
    "sigini_vars_bef_mice=[]\n",
    "\n",
    "for i in data_before_mice.columns:\n",
    "    #contingency table\n",
    "    table=pd.crosstab(index=data_before_mice[i],columns=data_before_mice['Spending_kind_Before'])\n",
    "    \n",
    "    #chi-sqaure goodness of fit test\n",
    "    stats,p_value,dof,ideal_exp=chi2_contingency(table)\n",
    "    \n",
    "    if p_value<0.05:\n",
    "        sigini_vars_bef_mice.append(i)\n"
   ]
  },
  {
   "cell_type": "code",
   "execution_count": 22,
   "metadata": {},
   "outputs": [
    {
     "data": {
      "text/plain": [
       "['Income',\n",
       " 'Gender',\n",
       " 'Notice_things_Before',\n",
       " 'All_angles_Before',\n",
       " 'Lonely_Before',\n",
       " 'Charity_Before',\n",
       " 'Meeting_ppl_Before',\n",
       " 'Spent_onli_Before',\n",
       " 'WFH_office_Before',\n",
       " 'Smoking_hab_Before',\n",
       " 'Drinking_hab_Before',\n",
       " 'Healthy_Lifestyle_Before',\n",
       " 'Internet_interest_Before',\n",
       " 'Religion_intrst_Before',\n",
       " 'Save_all_money_Before',\n",
       " 'Brand_non_brand_Before',\n",
       " 'Food_pref_Before',\n",
       " 'Basic_medications_Before',\n",
       " 'Digital_content_Before',\n",
       " 'Active_Investor_Before',\n",
       " 'Edu_instit_fee_Before',\n",
       " 'Spend_on_gadgets_Before',\n",
       " 'spend_on_Luxury_Before',\n",
       " 'Track_Household_exp_Before',\n",
       " 'Domestic_help_Before',\n",
       " 'Spending_kind_Before']"
      ]
     },
     "execution_count": 22,
     "metadata": {},
     "output_type": "execute_result"
    }
   ],
   "source": [
    "# Below are 25 features excluding target variable who has siginificant relationship with target variable\n",
    "\n",
    "# These features can be applied in model building for feature selection (possible application)\n",
    "sigini_vars_bef_mice"
   ]
  },
  {
   "cell_type": "code",
   "execution_count": 23,
   "metadata": {},
   "outputs": [],
   "source": [
    "# we also wanted to check on multi-collinearity in the data, hence performed the test with all the features\n",
    "\n",
    "overlap_mice={}\n",
    "\n",
    "for i in data_before_mice.columns:\n",
    "    for j in data_before_mice.columns:\n",
    "        table=pd.crosstab(index=data_before_mice[i],columns=data_before_mice[j])\n",
    "        \n",
    "        stats,p_value,dof,ideal_exp=chi2_contingency(table)\n",
    "        \n",
    "        if p_value<0.05:\n",
    "            overlap_mice[i]=j"
   ]
  },
  {
   "cell_type": "code",
   "execution_count": 24,
   "metadata": {},
   "outputs": [
    {
     "name": "stdout",
     "output_type": "stream",
     "text": [
      "Age : Domestic_help_Before\n",
      "\n",
      "Emp_stat_Before : Domestic_help_Before\n",
      "\n",
      "Marital_status : Domestic_help_Before\n",
      "\n",
      "Loc : Domestic_help_Before\n",
      "\n",
      "Sincere_prod_Before : Track_Household_exp_Before\n",
      "\n",
      "Worry_health_Before : spend_on_Luxury_Before\n",
      "\n",
      "New_env_Before : Spend_on_gadgets_Before\n",
      "\n",
      "Hob_interests_Before : Edu_instit_fee_Before\n",
      "\n",
      "Surveys_Before : Track_Household_exp_Before\n",
      "\n",
      "Enthu_Before : Track_Household_exp_Before\n",
      "\n",
      "Sleeping_hab_Before : Track_Household_exp_Before\n",
      "\n",
      "Medi_pref_Before : Medi_pref_Before\n",
      "\n",
      "Pol_interest_Before : spend_on_Luxury_Before\n",
      "\n",
      "Economy_Manag_intrst_Before : Edu_instit_fee_Before\n",
      "\n",
      "Medicine_intrst_Before : Edu_instit_fee_Before\n",
      "\n",
      "Mode_of_transport_Before : Spend_on_gadgets_Before\n",
      "\n"
     ]
    }
   ],
   "source": [
    "# here when observed we notice that many features have relationship with target feature, hence filtering out target feature\n",
    "for item in overlap_mice:\n",
    "    if overlap_mice[item] != 'Spending_kind_Before' :\n",
    "        print(item,':',overlap_mice[item])\n",
    "        print()"
   ]
  },
  {
   "cell_type": "code",
   "execution_count": 25,
   "metadata": {},
   "outputs": [],
   "source": [
    "sigini_vars_pre_mice=[]\n",
    "\n",
    "for i in data_present_mice.columns:\n",
    "    #contingency table\n",
    "    table=pd.crosstab(index=data_present_mice[i],columns=data_present_mice['Spending_kind_Present'])\n",
    "    \n",
    "    #chi-sqaure goodness of fit test\n",
    "    stats,p_value,dof,ideal_exp=chi2_contingency(table)\n",
    "    \n",
    "    if p_value<0.05:\n",
    "        sigini_vars_pre_mice.append(i)\n"
   ]
  },
  {
   "cell_type": "code",
   "execution_count": 26,
   "metadata": {},
   "outputs": [
    {
     "data": {
      "text/plain": [
       "['Gender',\n",
       " 'All_angles_Present',\n",
       " 'Hob_interests_Present',\n",
       " 'Income_Change',\n",
       " 'Smoking_hab_Present',\n",
       " 'Internet_interest_Present',\n",
       " 'Save_all_money_Present',\n",
       " 'Brand_non_brand_Present',\n",
       " 'Food_pref_Present',\n",
       " 'Basic_medications_Present',\n",
       " 'Digital_content_Present',\n",
       " 'Active_Investor_Present',\n",
       " 'Edu_instit_fee_Present',\n",
       " 'Spend_on_gadgets_Present',\n",
       " 'Spend_on_Luxury_Present',\n",
       " 'Track_Household_exp_Present',\n",
       " 'Spending_kind_Present']"
      ]
     },
     "execution_count": 26,
     "metadata": {},
     "output_type": "execute_result"
    }
   ],
   "source": [
    "sigini_vars_pre_mice"
   ]
  },
  {
   "cell_type": "code",
   "execution_count": 27,
   "metadata": {},
   "outputs": [],
   "source": [
    "#for present dataset\n",
    "overlap_pre_mcie={}\n",
    "\n",
    "for i in data_present_mice.columns:\n",
    "    for j in data_present_mice.columns:\n",
    "        table=pd.crosstab(index=data_present_mice[i],columns=data_present_mice[j])\n",
    "        \n",
    "        stats,p_value,dof,ideal_exp=chi2_contingency(table)\n",
    "        \n",
    "        if p_value<0.05:\n",
    "            overlap_pre_mcie[i]=j"
   ]
  },
  {
   "cell_type": "code",
   "execution_count": 29,
   "metadata": {},
   "outputs": [
    {
     "name": "stdout",
     "output_type": "stream",
     "text": [
      "Age : Domestic_help_Present\n",
      "\n",
      "Income : Domestic_help_Present\n",
      "\n",
      "Emp_stat_Present : Domestic_help_Present\n",
      "\n",
      "Marital_status : Domestic_help_Present\n",
      "\n",
      "Loc : Domestic_help_Present\n",
      "\n",
      "Notice_things_Present : Track_Household_exp_Present\n",
      "\n",
      "Sincere_prod_Present : Edu_instit_fee_Present\n",
      "\n",
      "Lonely_Present : Spend_on_gadgets_Present\n",
      "\n",
      "Worry_health_Present : Spend_on_gadgets_Present\n",
      "\n",
      "Charity_Present : Spend_on_gadgets_Present\n",
      "\n",
      "New_env_Present : Spend_on_Luxury_Present\n",
      "\n",
      "Meeting_ppl_Present : Track_Household_exp_Present\n",
      "\n",
      "Surveys_Present : Spend_on_Luxury_Present\n",
      "\n",
      "Spent_onli_Present : Spend_on_gadgets_Present\n",
      "\n",
      "WFH_office_Present : Edu_instit_fee_Present\n",
      "\n",
      "Ethu_Present : Track_Household_exp_Present\n",
      "\n",
      "Drinking_hab_Present : Domestic_help_Present\n",
      "\n",
      "Sleeping_hab_Present : Edu_instit_fee_Present\n",
      "\n",
      "Healthy_Lifestyle_Present : Spend_on_Luxury_Present\n",
      "\n",
      "Medi_pref_Present : Spend_on_Luxury_Present\n",
      "\n",
      "Pol_interest_Present : Domestic_help_Present\n",
      "\n",
      "Economy_Manag_intrst_Present : Edu_instit_fee_Present\n",
      "\n",
      "Medicine_intrst_Present : Edu_instit_fee_Present\n",
      "\n",
      "Religion_intrst_Present : Domestic_help_Present\n",
      "\n",
      "Mode_of_transport_Present : Spend_on_gadgets_Present\n",
      "\n",
      "Change_in_data_consumption : Change_in_data_consumption\n",
      "\n",
      "Domestic_help_Present : Domestic_help_Present\n",
      "\n"
     ]
    }
   ],
   "source": [
    "# here when observed we notice that many features have relationship with target feature, hence filtering out target feature\n",
    "for item in overlap_pre_mcie:\n",
    "    if overlap_pre_mcie[item] != 'Spending_kind_Present' :\n",
    "        print(item,':',overlap_pre_mcie[item])\n",
    "        print()"
   ]
  },
  {
   "cell_type": "markdown",
   "metadata": {},
   "source": [
    "Although datasets have different imputation techniques, the results obtained in statistical tests are similar, which can be due very less percentage of null values imputated."
   ]
  }
 ],
 "metadata": {
  "kernelspec": {
   "display_name": "Python 3",
   "language": "python",
   "name": "python3"
  },
  "language_info": {
   "codemirror_mode": {
    "name": "ipython",
    "version": 3
   },
   "file_extension": ".py",
   "mimetype": "text/x-python",
   "name": "python",
   "nbconvert_exporter": "python",
   "pygments_lexer": "ipython3",
   "version": "3.8.3"
  }
 },
 "nbformat": 4,
 "nbformat_minor": 4
}
